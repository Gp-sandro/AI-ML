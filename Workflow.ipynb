{
  "nbformat": 4,
  "nbformat_minor": 0,
  "metadata": {
    "colab": {
      "provenance": []
    },
    "kernelspec": {
      "name": "python3",
      "display_name": "Python 3"
    },
    "language_info": {
      "name": "python"
    }
  },
  "cells": [
    {
      "cell_type": "code",
      "execution_count": null,
      "metadata": {
        "colab": {
          "base_uri": "https://localhost:8080/",
          "height": 35
        },
        "id": "Yzqp96Kb1bmk",
        "outputId": "28918aee-0586-48bd-adba-bb888a0c1111"
      },
      "outputs": [
        {
          "output_type": "execute_result",
          "data": {
            "text/plain": [
              "'2.5.1+cu121'"
            ],
            "application/vnd.google.colaboratory.intrinsic+json": {
              "type": "string"
            }
          },
          "metadata": {},
          "execution_count": 30
        }
      ],
      "source": [
        "import torch\n",
        "from torch import nn\n",
        "from torch.utils.data import DataLoader\n",
        "from torchvision import datasets\n",
        "from torchvision.transforms import ToTensor\n",
        "import matplotlib.pyplot as plt\n",
        "\n",
        "#\n",
        "torch.__version__"
      ]
    },
    {
      "cell_type": "code",
      "source": [
        "weight = 0.7\n",
        "bais = 0.3\n",
        "\n",
        "start = 0\n",
        "end = 1\n",
        "step = 0.02\n",
        "\n",
        "X = torch.arange(start, end, step).unsqueeze(dim=1)\n",
        "y = weight * X + bais\n",
        "\n",
        "X[:10], y[:10], len(X), len(y)"
      ],
      "metadata": {
        "colab": {
          "base_uri": "https://localhost:8080/"
        },
        "id": "RX32JarQ2feo",
        "outputId": "d3733151-f42a-4343-cf1c-56f885d52324"
      },
      "execution_count": null,
      "outputs": [
        {
          "output_type": "execute_result",
          "data": {
            "text/plain": [
              "(tensor([[0.0000],\n",
              "         [0.0200],\n",
              "         [0.0400],\n",
              "         [0.0600],\n",
              "         [0.0800],\n",
              "         [0.1000],\n",
              "         [0.1200],\n",
              "         [0.1400],\n",
              "         [0.1600],\n",
              "         [0.1800]]),\n",
              " tensor([[0.3000],\n",
              "         [0.3140],\n",
              "         [0.3280],\n",
              "         [0.3420],\n",
              "         [0.3560],\n",
              "         [0.3700],\n",
              "         [0.3840],\n",
              "         [0.3980],\n",
              "         [0.4120],\n",
              "         [0.4260]]),\n",
              " 50,\n",
              " 50)"
            ]
          },
          "metadata": {},
          "execution_count": 31
        }
      ]
    },
    {
      "cell_type": "code",
      "source": [
        "train_splt = int(0.8 * len(X))\n",
        "X_train, y_train = X[:train_splt], y[:train_splt]\n",
        "X_test, y_test = X[train_splt:], y[train_splt:]\n",
        "\n",
        "len(X_train), len(y_train), len(X_test), len(y_test)"
      ],
      "metadata": {
        "colab": {
          "base_uri": "https://localhost:8080/"
        },
        "id": "M0Aw9ie23WjD",
        "outputId": "0042737f-4ba3-485a-8860-831a77400177"
      },
      "execution_count": null,
      "outputs": [
        {
          "output_type": "execute_result",
          "data": {
            "text/plain": [
              "(40, 40, 10, 10)"
            ]
          },
          "metadata": {},
          "execution_count": 32
        }
      ]
    },
    {
      "cell_type": "code",
      "source": [
        "def plot_predictions(train_data=X_train,\n",
        "                    train_labels=y_train,\n",
        "                    test_data=X_test,\n",
        "                    test_labels=y_test,\n",
        "                    predictions=None):\n",
        "\n",
        "  plt.figure(figsize=(10, 7))\n",
        "\n",
        " # Plot training date in blue\n",
        "  plt.scatter(train_data, train_labels, c=\"b\", s=4, label=\"Training data\")\n",
        " # Plot test data in green\n",
        "  plt.scatter(test_data, test_labels, c=\"g\", s=4, label=\"Testing data\")\n",
        "  # Are there prediciotions?\n",
        "  if predictions is not None:\n",
        "  # Plot the predictions if they don't exist\n",
        "    plt.scatter(test_data, predictions, c=\"r\", s=4, label=\"Predictions\")\n",
        "\n",
        "  #Show legend\n",
        "  plt.legend(prop={\"size\": 14})\n"
      ],
      "metadata": {
        "id": "aHBwQRKi4jdA"
      },
      "execution_count": null,
      "outputs": []
    },
    {
      "cell_type": "code",
      "source": [
        "plot_predictions();"
      ],
      "metadata": {
        "colab": {
          "base_uri": "https://localhost:8080/",
          "height": 464
        },
        "id": "J04gA2G452aJ",
        "outputId": "fd41b058-823f-485f-f9cf-39e5d7ed8b4a"
      },
      "execution_count": null,
      "outputs": [
        {
          "output_type": "display_data",
          "data": {
            "text/plain": [
              "<Figure size 1000x700 with 1 Axes>"
            ],
            "image/png": "[encoded data removed]"
          },
          "metadata": {}
        }
      ]
    },
    {
      "cell_type": "code",
      "source": [
        "# First PyTorch model\n",
        "class LineaRegressionModel(nn.Module): #<- aloms everything in PyTorch inherhits nn.Module\n",
        "  def __init__(self):\n",
        "    super().__init__()\n",
        "    self.weights = nn.Parameter(torch.randn(1,\n",
        "                                            requires_grad=True,\n",
        "                                            dtype=torch.float))\n",
        "    self.bais = nn.Parameter(torch.randn(1,\n",
        "                                            requires_grad=True,\n",
        "                                            dtype=torch.float))\n",
        "\n",
        "  # Make sure the forward function is correctly defined and indented\n",
        "  def forward(self, x: torch.Tensor) -> torch.Tensor: #<- this is the forwad method or function\n",
        "    return self.weights * x + self.bais #<- this is how the data flows throw the model."
      ],
      "metadata": {
        "id": "gWcMihzs6OaY"
      },
      "execution_count": null,
      "outputs": []
    },
    {
      "cell_type": "code",
      "source": [
        "### PyTorch model building model essentials\n",
        "\n",
        "# torch.nn\n",
        "# torch.nn.Parameter\n",
        "# torch.nn.Module\n",
        "# torch.optim\n",
        "# def forward"
      ],
      "metadata": {
        "id": "Pt2ILUI4h4wi"
      },
      "execution_count": null,
      "outputs": []
    },
    {
      "cell_type": "code",
      "source": [
        "# Create a random seed\n",
        "torch.manual_seed(42)\n",
        "\n",
        "#Create an instancce of the model\n",
        "model_0 = LineaRegressionModel()\n",
        "\n",
        "#Check the model parameters\n",
        "list(model_0.parameters())"
      ],
      "metadata": {
        "colab": {
          "base_uri": "https://localhost:8080/"
        },
        "id": "zbo_AdoXj-Sj",
        "outputId": "38044914-d084-4bd8-e97e-cd0720c51c7b"
      },
      "execution_count": null,
      "outputs": [
        {
          "output_type": "execute_result",
          "data": {
            "text/plain": [
              "[Parameter containing:\n",
              " tensor([0.3367], requires_grad=True),\n",
              " Parameter containing:\n",
              " tensor([0.1288], requires_grad=True)]"
            ]
          },
          "metadata": {},
          "execution_count": 37
        }
      ]
    },
    {
      "cell_type": "code",
      "source": [
        "model_0.state_dict()"
      ],
      "metadata": {
        "colab": {
          "base_uri": "https://localhost:8080/"
        },
        "id": "9qaCGaN0ktjd",
        "outputId": "f85371fc-3de0-41d7-b467-4b2a7d0e0f47"
      },
      "execution_count": null,
      "outputs": [
        {
          "output_type": "execute_result",
          "data": {
            "text/plain": [
              "OrderedDict([('weights', tensor([0.3367])), ('bais', tensor([0.1288]))])"
            ]
          },
          "metadata": {},
          "execution_count": 38
        }
      ]
    },
    {
      "cell_type": "code",
      "source": [
        "weight,bais"
      ],
      "metadata": {
        "colab": {
          "base_uri": "https://localhost:8080/"
        },
        "id": "exCecNFbkzot",
        "outputId": "d100feb6-8328-4c8d-d171-464552abcbca"
      },
      "execution_count": null,
      "outputs": [
        {
          "output_type": "execute_result",
          "data": {
            "text/plain": [
              "(0.7, 0.3)"
            ]
          },
          "metadata": {},
          "execution_count": 39
        }
      ]
    },
    {
      "cell_type": "code",
      "source": [
        "with torch.inference_mode():\n",
        "  y_preds = model_0(X_test)\n",
        "\n",
        "y_preds"
      ],
      "metadata": {
        "colab": {
          "base_uri": "https://localhost:8080/"
        },
        "id": "XDx1kDYHlBpd",
        "outputId": "dcc93950-bc30-4aac-f0f9-341adc76d068"
      },
      "execution_count": null,
      "outputs": [
        {
          "output_type": "execute_result",
          "data": {
            "text/plain": [
              "tensor([[0.3982],\n",
              "        [0.4049],\n",
              "        [0.4116],\n",
              "        [0.4184],\n",
              "        [0.4251],\n",
              "        [0.4318],\n",
              "        [0.4386],\n",
              "        [0.4453],\n",
              "        [0.4520],\n",
              "        [0.4588]])"
            ]
          },
          "metadata": {},
          "execution_count": 40
        }
      ]
    },
    {
      "cell_type": "code",
      "source": [
        "plot_predictions(predictions=y_preds);\n",
        "#"
      ],
      "metadata": {
        "colab": {
          "base_uri": "https://localhost:8080/",
          "height": 464
        },
        "id": "Ekzjx_STl6J4",
        "outputId": "7a88d605-76b8-4fcc-937b-f9ab02daff62"
      },
      "execution_count": null,
      "outputs": [
        {
          "output_type": "display_data",
          "data": {
            "text/plain": [
              "<Figure size 1000x700 with 1 Axes>"
            ],
            "image/png": "[encoded data removed]"
          },
          "metadata": {}
        }
      ]
    },
    {
      "cell_type": "code",
      "source": [
        "list(model_0.parameters())"
      ],
      "metadata": {
        "id": "gnmlEyjbmW9s",
        "colab": {
          "base_uri": "https://localhost:8080/"
        },
        "outputId": "5efeac8c-8144-4aa5-d854-a00c1c2e09d6"
      },
      "execution_count": null,
      "outputs": [
        {
          "output_type": "execute_result",
          "data": {
            "text/plain": [
              "[Parameter containing:\n",
              " tensor([0.3367], requires_grad=True),\n",
              " Parameter containing:\n",
              " tensor([0.1288], requires_grad=True)]"
            ]
          },
          "metadata": {},
          "execution_count": 42
        }
      ]
    },
    {
      "cell_type": "code",
      "source": [
        "model_0.state_dict()"
      ],
      "metadata": {
        "id": "xKWICNieOp6k",
        "outputId": "3d576315-d5b8-4e2e-e35a-49ec46d42da2",
        "colab": {
          "base_uri": "https://localhost:8080/"
        }
      },
      "execution_count": null,
      "outputs": [
        {
          "output_type": "execute_result",
          "data": {
            "text/plain": [
              "OrderedDict([('weights', tensor([0.3367])), ('bais', tensor([0.1288]))])"
            ]
          },
          "metadata": {},
          "execution_count": 43
        }
      ]
    },
    {
      "cell_type": "code",
      "source": [
        "# Setup a loss function\n",
        "loss_nn = nn.L1Loss()\n",
        "\n",
        "# Create an optimizer\n",
        "optimizer = torch.optim.SGD(params=model_0.parameters(),\n",
        "                            lr=0.01)\n",
        "\n"
      ],
      "metadata": {
        "id": "-FMhnnRSQrGf"
      },
      "execution_count": null,
      "outputs": []
    },
    {
      "cell_type": "code",
      "source": [
        "from math import e\n",
        "# Building a training loop\n",
        "\n",
        "epochs = 200\n",
        "\n",
        "epoch_count = []\n",
        "loss_values = []\n",
        "test_loss_values = []\n",
        "\n",
        "# 0. Lopp trought the data\n",
        "for epoch in range(epochs):\n",
        "  model_0.train()\n",
        "  # Set the model to training mode\n",
        "  y_pred = model_0(X_train)\n",
        "\n",
        "  # Calculate the loss\n",
        "  loss = loss_nn(y_pred, y_train)\n",
        "\n",
        "  optimizer.zero_grad()\n",
        "\n",
        "  loss.backward()\n",
        "\n",
        "  optimizer.step()\n",
        "\n",
        "  model_0.eval()\n",
        "  with torch.inference_mode():\n",
        "    test_pred = model_0(X_test)\n",
        "    test_loss = loss_nn(test_pred, y_test)\n",
        "  if epoch % 10 == 0:\n",
        "    epoch_count.append(epoch)\n",
        "    loss_values.append(loss)\n",
        "    test_loss_values.append(test_loss)\n",
        "    print(f\"Epoch: {epoch} | Loss: {loss} | Test Loss: {test_loss}\")\n",
        "\n",
        "    print(model_0.state_dict())\n"
      ],
      "metadata": {
        "id": "zV1oSIZdS_bv",
        "colab": {
          "base_uri": "https://localhost:8080/"
        },
        "outputId": "1b955ced-33db-4041-d9ef-feca18254de9"
      },
      "execution_count": null,
      "outputs": [
        {
          "output_type": "stream",
          "name": "stdout",
          "text": [
            "Epoch: 0 | Loss: 0.3013603389263153 | Test Loss: 0.4675942063331604\n",
            "OrderedDict([('weights', tensor([0.3445])), ('bais', tensor([0.1488]))])\n",
            "Epoch: 10 | Loss: 0.18615034222602844 | Test Loss: 0.3328842222690582\n",
            "OrderedDict([('weights', tensor([0.3835])), ('bais', tensor([0.2488]))])\n",
            "Epoch: 20 | Loss: 0.08227583020925522 | Test Loss: 0.2069590985774994\n",
            "OrderedDict([('weights', tensor([0.4222])), ('bais', tensor([0.3403]))])\n",
            "Epoch: 30 | Loss: 0.05181945487856865 | Test Loss: 0.14023718237876892\n",
            "OrderedDict([('weights', tensor([0.4539])), ('bais', tensor([0.3788]))])\n",
            "Epoch: 40 | Loss: 0.04503796249628067 | Test Loss: 0.11182951927185059\n",
            "OrderedDict([('weights', tensor([0.4768])), ('bais', tensor([0.3868]))])\n",
            "Epoch: 50 | Loss: 0.04132963344454765 | Test Loss: 0.09809747338294983\n",
            "OrderedDict([('weights', tensor([0.4956])), ('bais', tensor([0.3838]))])\n",
            "Epoch: 60 | Loss: 0.03785243630409241 | Test Loss: 0.08776430785655975\n",
            "OrderedDict([('weights', tensor([0.5134])), ('bais', tensor([0.3783]))])\n",
            "Epoch: 70 | Loss: 0.03441363573074341 | Test Loss: 0.0794917643070221\n",
            "OrderedDict([('weights', tensor([0.5306])), ('bais', tensor([0.3713]))])\n",
            "Epoch: 80 | Loss: 0.030979642644524574 | Test Loss: 0.07190609723329544\n",
            "OrderedDict([('weights', tensor([0.5475])), ('bais', tensor([0.3638]))])\n",
            "Epoch: 90 | Loss: 0.02754882536828518 | Test Loss: 0.06363357603549957\n",
            "OrderedDict([('weights', tensor([0.5647])), ('bais', tensor([0.3568]))])\n",
            "Epoch: 100 | Loss: 0.024110013619065285 | Test Loss: 0.05536102131009102\n",
            "OrderedDict([('weights', tensor([0.5818])), ('bais', tensor([0.3498]))])\n",
            "Epoch: 110 | Loss: 0.020677709951996803 | Test Loss: 0.04777535796165466\n",
            "OrderedDict([('weights', tensor([0.5988])), ('bais', tensor([0.3423]))])\n",
            "Epoch: 120 | Loss: 0.017245199531316757 | Test Loss: 0.0395028181374073\n",
            "OrderedDict([('weights', tensor([0.6159])), ('bais', tensor([0.3353]))])\n",
            "Epoch: 130 | Loss: 0.013806397095322609 | Test Loss: 0.031230276450514793\n",
            "OrderedDict([('weights', tensor([0.6331])), ('bais', tensor([0.3283]))])\n",
            "Epoch: 140 | Loss: 0.010375778190791607 | Test Loss: 0.023644620552659035\n",
            "OrderedDict([('weights', tensor([0.6501])), ('bais', tensor([0.3208]))])\n",
            "Epoch: 150 | Loss: 0.006941580679267645 | Test Loss: 0.0153720797970891\n",
            "OrderedDict([('weights', tensor([0.6672])), ('bais', tensor([0.3138]))])\n",
            "Epoch: 160 | Loss: 0.0035027749836444855 | Test Loss: 0.007099539041519165\n",
            "OrderedDict([('weights', tensor([0.6844])), ('bais', tensor([0.3068]))])\n",
            "Epoch: 170 | Loss: 0.0025885067880153656 | Test Loss: 0.008447891101241112\n",
            "OrderedDict([('weights', tensor([0.6990])), ('bais', tensor([0.3093]))])\n",
            "Epoch: 180 | Loss: 0.0025885067880153656 | Test Loss: 0.008447891101241112\n",
            "OrderedDict([('weights', tensor([0.6990])), ('bais', tensor([0.3093]))])\n",
            "Epoch: 190 | Loss: 0.0025885067880153656 | Test Loss: 0.008447891101241112\n",
            "OrderedDict([('weights', tensor([0.6990])), ('bais', tensor([0.3093]))])\n"
          ]
        }
      ]
    },
    {
      "source": [
        "import numpy as np\n",
        "\n",
        "# Convert loss_values to a NumPy array\n",
        "loss_values_np = np.array([loss.detach().cpu().numpy() for loss in loss_values])\n",
        "\n",
        "# Convert test_loss_values to a NumPy array (if needed)\n",
        "test_loss_values_np = np.array([loss.detach().cpu().numpy() for loss in test_loss_values])\n",
        "\n",
        "loss_values_np, test_loss_values_np  # Output the NumPy arrays"
      ],
      "cell_type": "code",
      "metadata": {
        "colab": {
          "base_uri": "https://localhost:8080/"
        },
        "id": "jlvxOCZcnXUi",
        "outputId": "39efd1d0-894c-4fd8-9435-debcdc2f3bd7"
      },
      "execution_count": null,
      "outputs": [
        {
          "output_type": "execute_result",
          "data": {
            "text/plain": [
              "(array([0.30136034, 0.18615034, 0.08227583, 0.05181945, 0.04503796,\n",
              "        0.04132963, 0.03785244, 0.03441364, 0.03097964, 0.02754883,\n",
              "        0.02411001, 0.02067771, 0.0172452 , 0.0138064 , 0.01037578,\n",
              "        0.00694158, 0.00350277, 0.00258851, 0.00258851, 0.00258851],\n",
              "       dtype=float32),\n",
              " array([0.4675942 , 0.33288422, 0.2069591 , 0.14023718, 0.11182952,\n",
              "        0.09809747, 0.08776431, 0.07949176, 0.0719061 , 0.06363358,\n",
              "        0.05536102, 0.04777536, 0.03950282, 0.03123028, 0.02364462,\n",
              "        0.01537208, 0.00709954, 0.00844789, 0.00844789, 0.00844789],\n",
              "       dtype=float32))"
            ]
          },
          "metadata": {},
          "execution_count": 56
        }
      ]
    },
    {
      "source": [
        "plt.plot(epoch_count, [loss.detach().numpy() for loss in loss_values], label=\"Train loss\")\n",
        "plt.plot(epoch_count, [loss.detach().numpy() for loss in test_loss_values], label=\"Test loss\")\n",
        "plt.title(\"Training and test loss curves\")\n",
        "plt.ylabel(\"Loss\")\n",
        "plt.xlabel(\"Epochs\")\n",
        "plt.legend();"
      ],
      "cell_type": "code",
      "metadata": {
        "colab": {
          "base_uri": "https://localhost:8080/",
          "height": 472
        },
        "id": "3sp9mX84mKna",
        "outputId": "cf7d3a9b-12ee-4eda-879e-787db4de9f55"
      },
      "execution_count": null,
      "outputs": [
        {
          "output_type": "display_data",
          "data": {
            "text/plain": [
              "<Figure size 640x480 with 1 Axes>"
            ],
            "image/png": "[encoded data removed]"
          },
          "metadata": {}
        }
      ]
    },
    {
      "cell_type": "code",
      "source": [
        "with torch.inference_mode():\n",
        "  y_preds_new = model_0(X_test)\n"
      ],
      "metadata": {
        "id": "oTttSGr5fQGx"
      },
      "execution_count": null,
      "outputs": []
    },
    {
      "cell_type": "code",
      "source": [
        "plot_predictions(predictions=y_preds_new)\n",
        "#"
      ],
      "metadata": {
        "colab": {
          "base_uri": "https://localhost:8080/",
          "height": 464
        },
        "id": "No037_g3iGEJ",
        "outputId": "7e6e553b-a2a2-4916-f603-d084203d3647"
      },
      "execution_count": null,
      "outputs": [
        {
          "output_type": "display_data",
          "data": {
            "text/plain": [
              "<Figure size 1000x700 with 1 Axes>"
            ],
            "image/png": "[encoded data removed]"
          },
          "metadata": {}
        }
      ]
    },
    {
      "source": [
        "from pathlib import Path\n",
        "\n",
        "MODEL_PATH = Path(\"models\")\n",
        "# Change 'precents' to 'parents'\n",
        "MODEL_PATH.mkdir(parents=True, exist_ok=True) # Corrected the keyword argument\n",
        "# The following will save the model when we get to that part.\n",
        "MODEL_NAME = '01_pytorch_workflow_model_0.pth'\n",
        "MODEL_SAVE_PATH = MODEL_PATH / MODEL_NAME\n",
        "\n",
        "\n",
        "print(f\"Saving model to : {MODEL_SAVE_PATH}\")\n",
        "torch.save(obj=model_0.state_dict(),\n",
        "           f=MODEL_SAVE_PATH)"
      ],
      "cell_type": "code",
      "metadata": {
        "colab": {
          "base_uri": "https://localhost:8080/"
        },
        "id": "pkxr55I8QBrw",
        "outputId": "02212247-f308-40e1-b70b-464ad8576caa"
      },
      "execution_count": null,
      "outputs": [
        {
          "output_type": "stream",
          "name": "stdout",
          "text": [
            "Saving model to : models/01_pytorch_workflow_model_0.pth\n"
          ]
        }
      ]
    },
    {
      "cell_type": "code",
      "source": [
        "!ls -l models/01_pytorch_workflow_model_0.pth"
      ],
      "metadata": {
        "colab": {
          "base_uri": "https://localhost:8080/"
        },
        "id": "ldjdaCJeQpuB",
        "outputId": "6305c20d-4069-4664-eca1-7b760167dd14"
      },
      "execution_count": null,
      "outputs": [
        {
          "output_type": "stream",
          "name": "stdout",
          "text": [
            "-rw-r--r-- 1 root root 1680 Dec 17 20:18 models/01_pytorch_workflow_model_0.pth\n"
          ]
        }
      ]
    },
    {
      "cell_type": "code",
      "source": [
        "# Instantiate a new model\n",
        "loaded_model_0 = LineaRegressionModel()\n",
        "\n",
        "# Load the saved state_dict\n",
        "loaded_model_0.load_state_dict(torch.load(f=MODEL_SAVE_PATH))\n",
        "\n",
        "# Put the loaded model into evaluation mode\n",
        "loaded_model_0.eval()\n",
        "\n"
      ],
      "metadata": {
        "colab": {
          "base_uri": "https://localhost:8080/"
        },
        "id": "nx_FYVYbQ9II",
        "outputId": "f7202949-bced-4bbc-d068-2039a8f656ec"
      },
      "execution_count": null,
      "outputs": [
        {
          "output_type": "stream",
          "name": "stderr",
          "text": [
            "<ipython-input-62-cec5186f9675>:5: FutureWarning: You are using `torch.load` with `weights_only=False` (the current default value), which uses the default pickle module implicitly. It is possible to construct malicious pickle data which will execute arbitrary code during unpickling (See https://github.com/pytorch/pytorch/blob/main/SECURITY.md#untrusted-models for more details). In a future release, the default value for `weights_only` will be flipped to `True`. This limits the functions that could be executed during unpickling. Arbitrary objects will no longer be allowed to be loaded via this mode unless they are explicitly allowlisted by the user via `torch.serialization.add_safe_globals`. We recommend you start setting `weights_only=True` for any use case where you don't have full control of the loaded file. Please open an issue on GitHub for any issues related to this experimental feature.\n",
            "  loaded_model_0.load_state_dict(torch.load(f=MODEL_SAVE_PATH))\n"
          ]
        },
        {
          "output_type": "execute_result",
          "data": {
            "text/plain": [
              "LineaRegressionModel()"
            ]
          },
          "metadata": {},
          "execution_count": 62
        }
      ]
    },
    {
      "cell_type": "code",
      "source": [
        "# Make predictions with the loaded model\n",
        "with torch.inference_mode():\n",
        "    loaded_model_preds = loaded_model_0(X_test)\n",
        "\n",
        "# Verify that the predictions match\n",
        "print(f\"Loaded model predictions are equal to original model predictions: {torch.equal(y_preds_new, loaded_model_preds)}\")"
      ],
      "metadata": {
        "colab": {
          "base_uri": "https://localhost:8080/"
        },
        "id": "n8iXnKjkRWhm",
        "outputId": "717d598c-610e-4b41-9cab-9fb26cd02e45"
      },
      "execution_count": null,
      "outputs": [
        {
          "output_type": "stream",
          "name": "stdout",
          "text": [
            "Loaded model predictions are equal to original model predictions: True\n"
          ]
        }
      ]
    },
    {
      "cell_type": "code",
      "source": [
        "import torch\n",
        "from torch import nn\n",
        "import matplotlib.pyplot as plt\n"
      ],
      "metadata": {
        "id": "-pyZaij9R-fZ"
      },
      "execution_count": null,
      "outputs": []
    },
    {
      "cell_type": "code",
      "source": [
        "weight = 0.7\n",
        "bais = 0.3\n",
        "\n",
        "start = 0\n",
        "end = 1\n",
        "step = 0.02\n",
        "\n",
        "X = torch.arange(start, end, step).unsqueeze(dim=1)\n",
        "y = weight * X + bais\n",
        "X[:10], y[:10]"
      ],
      "metadata": {
        "colab": {
          "base_uri": "https://localhost:8080/"
        },
        "id": "0vfInFAFSLdj",
        "outputId": "ceeab853-f9ea-4c45-8d2a-a60c8a39db3f"
      },
      "execution_count": null,
      "outputs": [
        {
          "output_type": "execute_result",
          "data": {
            "text/plain": [
              "(tensor([[0.0000],\n",
              "         [0.0200],\n",
              "         [0.0400],\n",
              "         [0.0600],\n",
              "         [0.0800],\n",
              "         [0.1000],\n",
              "         [0.1200],\n",
              "         [0.1400],\n",
              "         [0.1600],\n",
              "         [0.1800]]),\n",
              " tensor([[0.3000],\n",
              "         [0.3140],\n",
              "         [0.3280],\n",
              "         [0.3420],\n",
              "         [0.3560],\n",
              "         [0.3700],\n",
              "         [0.3840],\n",
              "         [0.3980],\n",
              "         [0.4120],\n",
              "         [0.4260]]))"
            ]
          },
          "metadata": {},
          "execution_count": 3
        }
      ]
    },
    {
      "cell_type": "code",
      "source": [
        "import torch\n",
        "from torch import nn\n",
        "import matplotlib.pyplot as plt\n",
        "\n",
        "# Fix train_splt, X_train, y_train, X_test, y_test\n",
        "train_splt = int(0.8 * len(X))\n",
        "# Slice X to the split point, then slice y to the same point\n",
        "X_train, y_train = X[:train_splt], y[:train_splt]\n",
        "# slice X from the split point to the end, and slice y from the same split point to the end\n",
        "X_test, y_test = X[train_splt:], y[train_splt:]\n",
        "\n",
        "len(X_train), len(y_train), len(X_test), len(y_test)\n",
        "\n",
        "# Define the plot_predictions function\n",
        "def plot_predictions(train_data=X_train,\n",
        "                    train_labels=y_train,\n",
        "                    test_data=X_test,\n",
        "                    test_labels=y_test,\n",
        "                    predictions=None):\n",
        "\n",
        "  plt.figure(figsize=(10, 7))\n",
        "\n",
        " # Plot training date in blue\n",
        "  plt.scatter(train_data, train_labels, c=\"b\", s=4, label=\"Training data\")\n",
        " # Plot test data in green\n",
        "  plt.scatter(test_data, test_labels, c=\"g\", s=4, label=\"Testing data\")\n",
        "  # Are there prediciotions?\n",
        "  if predictions is not None:\n",
        "  # Plot the predictions if they don't exist\n",
        "    plt.scatter(test_data, predictions, c=\"r\", s=4, label=\"Predictions\")\n",
        "\n",
        "  #Show legend\n",
        "  plt.legend(prop={\"size\": 14})\n",
        "\n",
        "\n",
        "# Now call the function\n",
        "plot_predictions(X_train, y_train, X_test, y_test)"
      ],
      "metadata": {
        "colab": {
          "base_uri": "https://localhost:8080/",
          "height": 464
        },
        "id": "G6eNCGimTAbl",
        "outputId": "3d146f7b-5780-447c-b861-32b11637fb79"
      },
      "execution_count": null,
      "outputs": [
        {
          "output_type": "display_data",
          "data": {
            "text/plain": [
              "<Figure size 1000x700 with 1 Axes>"
            ],
            "image/png": "[encoded data removed]"
          },
          "metadata": {}
        }
      ]
    },
    {
      "cell_type": "code",
      "source": [
        "\n",
        "# Create a linear model by subclassing nn.Module\n",
        "\n",
        "class LineaRegressionModelV2(nn.Module):\n",
        "  def __init__(self) -> None:\n",
        "    super().__init__()\n",
        "    # Use nn.Linear()\n",
        "    self.linear_layer = nn.Linear(in_features=1,\n",
        "                                  out_features=1)\n",
        "\n",
        "  def forward(self, x: torch.Tensor) -> torch.Tensor:\n",
        "    return self.linear_layer(x)\n",
        "\n",
        "torch.manual_seed(42)\n",
        "model_1 = LineaRegressionModelV2()\n",
        "model_1, model_1.state_dict()"
      ],
      "metadata": {
        "id": "s6xOpBAHTt4K",
        "colab": {
          "base_uri": "https://localhost:8080/"
        },
        "outputId": "8038f73d-e7ec-4cdc-a5ec-15cb2c9a6a58"
      },
      "execution_count": null,
      "outputs": [
        {
          "output_type": "execute_result",
          "data": {
            "text/plain": [
              "(LineaRegressionModelV2(\n",
              "   (linear_layer): Linear(in_features=1, out_features=1, bias=True)\n",
              " ),\n",
              " OrderedDict([('linear_layer.weight', tensor([[0.7645]])),\n",
              "              ('linear_layer.bias', tensor([0.8300]))]))"
            ]
          },
          "metadata": {},
          "execution_count": 22
        }
      ]
    },
    {
      "cell_type": "code",
      "source": [
        "# Training\n",
        "## Loss function\n",
        "## Optimizer\n",
        "## Trainig loop\n",
        "## Testing loop\n",
        "\n",
        "loss_fn = nn.L1Loss()\n",
        "\n",
        "optimizer = torch.optim.SGD(params = model_1.parameters(),\n",
        "                            lr= 0.01)"
      ],
      "metadata": {
        "id": "vOeI17dvt-3Y"
      },
      "execution_count": null,
      "outputs": []
    },
    {
      "cell_type": "code",
      "source": [
        "for epoch in range(epochs):\n",
        "  model_1.train()\n",
        "\n",
        "  y_pred = model_1(X_train)\n",
        "\n",
        "  loss = loss_fn(y_pred, y_train)\n",
        "\n",
        "  optimizer.zero_grad()\n",
        "\n",
        "  loss.backward()\n",
        "\n",
        "  optimizer.step()\n",
        "\n",
        "  model_1.eval()\n",
        "\n",
        "  with torch.inference_mode():\n",
        "    test_pred = model_1(X_test)\n",
        "\n",
        "    test_loss = loss_fn(test_pred,y_test)\n",
        "\n",
        "    if epoch % 10 == 0:\n",
        "      print(f\"Epoch: {epoch} | Loss: {loss} | Test loss: {test_loss}\")"
      ],
      "metadata": {
        "colab": {
          "base_uri": "https://localhost:8080/"
        },
        "id": "3piEDF1it_zO",
        "outputId": "3bacda92-7c3f-4e92-b9f4-f13cd89d0b58"
      },
      "execution_count": null,
      "outputs": [
        {
          "output_type": "stream",
          "name": "stdout",
          "text": [
            "Epoch: 0 | Loss: 0.0012645035749301314 | Test loss: 0.013801807537674904\n",
            "Epoch: 10 | Loss: 0.0012645035749301314 | Test loss: 0.013801807537674904\n",
            "Epoch: 20 | Loss: 0.0012645035749301314 | Test loss: 0.013801807537674904\n",
            "Epoch: 30 | Loss: 0.0012645035749301314 | Test loss: 0.013801807537674904\n",
            "Epoch: 40 | Loss: 0.0012645035749301314 | Test loss: 0.013801807537674904\n",
            "Epoch: 50 | Loss: 0.0012645035749301314 | Test loss: 0.013801807537674904\n",
            "Epoch: 60 | Loss: 0.0012645035749301314 | Test loss: 0.013801807537674904\n",
            "Epoch: 70 | Loss: 0.0012645035749301314 | Test loss: 0.013801807537674904\n",
            "Epoch: 80 | Loss: 0.0012645035749301314 | Test loss: 0.013801807537674904\n",
            "Epoch: 90 | Loss: 0.0012645035749301314 | Test loss: 0.013801807537674904\n",
            "Epoch: 100 | Loss: 0.0012645035749301314 | Test loss: 0.013801807537674904\n",
            "Epoch: 110 | Loss: 0.0012645035749301314 | Test loss: 0.013801807537674904\n",
            "Epoch: 120 | Loss: 0.0012645035749301314 | Test loss: 0.013801807537674904\n",
            "Epoch: 130 | Loss: 0.0012645035749301314 | Test loss: 0.013801807537674904\n",
            "Epoch: 140 | Loss: 0.0012645035749301314 | Test loss: 0.013801807537674904\n",
            "Epoch: 150 | Loss: 0.0012645035749301314 | Test loss: 0.013801807537674904\n",
            "Epoch: 160 | Loss: 0.0012645035749301314 | Test loss: 0.013801807537674904\n",
            "Epoch: 170 | Loss: 0.0012645035749301314 | Test loss: 0.013801807537674904\n",
            "Epoch: 180 | Loss: 0.0012645035749301314 | Test loss: 0.013801807537674904\n",
            "Epoch: 190 | Loss: 0.0012645035749301314 | Test loss: 0.013801807537674904\n"
          ]
        }
      ]
    },
    {
      "cell_type": "code",
      "source": [
        "model_1.state_dict()"
      ],
      "metadata": {
        "colab": {
          "base_uri": "https://localhost:8080/"
        },
        "id": "YNTAzNTnwHbh",
        "outputId": "832c523e-67f9-49a3-a3c4-c95d3ea8ba41"
      },
      "execution_count": null,
      "outputs": [
        {
          "output_type": "execute_result",
          "data": {
            "text/plain": [
              "OrderedDict([('linear_layer.weight', tensor([[0.6968]])),\n",
              "             ('linear_layer.bias', tensor([0.3025]))])"
            ]
          },
          "metadata": {},
          "execution_count": 28
        }
      ]
    },
    {
      "cell_type": "code",
      "source": [
        "# Make predictions with the trained model\n",
        "with torch.inference_mode():\n",
        "  y_preds = model_1(X_test)\n",
        "\n",
        "# Convert predictions to NumPy for plotting\n",
        "y_preds_np = y_preds.detach().cpu().numpy()\n",
        "\n",
        "# Create the prediction plot\n",
        "plt.figure(figsize=(10, 7))\n",
        "plt.scatter(X_test.cpu().numpy(), y_test.cpu().numpy(), c='b', s=4, label=\"True Values\")  # True values in blue\n",
        "plt.scatter(X_test.cpu().numpy(), y_preds_np, c='r', s=4, label=\"Predictions\")  # Predictions in red\n",
        "plt.xlabel(\"X\")\n",
        "plt.ylabel(\"y\")\n",
        "plt.title(\"Prediction Plot\")\n",
        "plt.legend(prop={'size': 14})\n",
        "plt.show()"
      ],
      "metadata": {
        "colab": {
          "base_uri": "https://localhost:8080/",
          "height": 480
        },
        "id": "Hrqqh_WFwLuJ",
        "outputId": "1485cbb1-e74c-407a-bfa2-aec647a8f13a"
      },
      "execution_count": null,
      "outputs": [
        {
          "output_type": "display_data",
          "data": {
            "text/plain": [
              "<Figure size 1000x700 with 1 Axes>"
            ],
            "image/png": "[encoded data removed]"
          },
          "metadata": {}
        }
      ]
    },
    {
      "cell_type": "code",
      "source": [
        "from pathlib import Path\n",
        "\n",
        "MODEL_PATH = Path(\"models\")\n",
        "MODEL_PATH.mkdir(parents =True, exist_ok=True)\n",
        "\n",
        "MODEL_NAME = \"01_pytroch_workflow_model_1.pth\"\n",
        "MODEL_SAVE_PATH = MODEL_PATH / MODEL_NAME\n",
        "\n",
        "print(f\"SAVING model to: {MODEL_SAVE_PATH}\")\n",
        "torch.save(obj = model_1.state_dict(),\n",
        "           f = MODEL_SAVE_PATH)"
      ],
      "metadata": {
        "colab": {
          "base_uri": "https://localhost:8080/"
        },
        "id": "5misO_u6yURx",
        "outputId": "f47a6da6-4839-43b1-bcf9-a8fec02dd1a9"
      },
      "execution_count": null,
      "outputs": [
        {
          "output_type": "stream",
          "name": "stdout",
          "text": [
            "SAVING model to: models/01_pytroch_workflow_model_1.pth\n"
          ]
        }
      ]
    },
    {
      "cell_type": "code",
      "source": [
        "# Instantiate a new instance of the LineaRegressionModelV2 class\n",
        "loaded_model_1 = LineaRegressionModelV2()\n",
        "\n",
        "# Load the saved state_dict into the instance\n",
        "loaded_model_1.load_state_dict(torch.load(MODEL_SAVE_PATH))\n",
        "\n"
      ],
      "metadata": {
        "colab": {
          "base_uri": "https://localhost:8080/"
        },
        "id": "rvE_u53CzO4x",
        "outputId": "2aa238b3-0f4a-4ac5-886e-895a34e1f9f6"
      },
      "execution_count": null,
      "outputs": [
        {
          "output_type": "stream",
          "name": "stderr",
          "text": [
            "<ipython-input-34-503af5dc023c>:5: FutureWarning: You are using `torch.load` with `weights_only=False` (the current default value), which uses the default pickle module implicitly. It is possible to construct malicious pickle data which will execute arbitrary code during unpickling (See https://github.com/pytorch/pytorch/blob/main/SECURITY.md#untrusted-models for more details). In a future release, the default value for `weights_only` will be flipped to `True`. This limits the functions that could be executed during unpickling. Arbitrary objects will no longer be allowed to be loaded via this mode unless they are explicitly allowlisted by the user via `torch.serialization.add_safe_globals`. We recommend you start setting `weights_only=True` for any use case where you don't have full control of the loaded file. Please open an issue on GitHub for any issues related to this experimental feature.\n",
            "  loaded_model_1.load_state_dict(torch.load(MODEL_SAVE_PATH))\n"
          ]
        },
        {
          "output_type": "execute_result",
          "data": {
            "text/plain": [
              "<All keys matched successfully>"
            ]
          },
          "metadata": {},
          "execution_count": 34
        }
      ]
    },
    {
      "cell_type": "code",
      "source": [
        "loaded_model_1.eval()\n",
        "with torch.inference_mode():\n",
        "  loaded_model_1_preds = loaded_model_1(X_test)\n",
        "y_preds == loaded_model_1_preds"
      ],
      "metadata": {
        "colab": {
          "base_uri": "https://localhost:8080/"
        },
        "id": "lzHmCHhMzmGz",
        "outputId": "0c250052-be11-46e8-b5dc-661aff5add96"
      },
      "execution_count": null,
      "outputs": [
        {
          "output_type": "execute_result",
          "data": {
            "text/plain": [
              "tensor([[True],\n",
              "        [True],\n",
              "        [True],\n",
              "        [True],\n",
              "        [True],\n",
              "        [True],\n",
              "        [True],\n",
              "        [True],\n",
              "        [True],\n",
              "        [True]])"
            ]
          },
          "metadata": {},
          "execution_count": 36
        }
      ]
    }
  ]
}